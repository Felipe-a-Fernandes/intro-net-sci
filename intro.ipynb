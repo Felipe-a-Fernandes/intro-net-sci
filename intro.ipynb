{
  "nbformat": 4,
  "nbformat_minor": 0,
  "metadata": {
    "colab": {
      "name": "intro.ipynb",
      "provenance": [],
      "collapsed_sections": [
        "eJwCd4JKRlVE",
        "sOfxVP6ER9Bv"
      ],
      "authorship_tag": "ABX9TyMV0ds+YCbZQNEIutqXiBpK",
      "include_colab_link": true
    },
    "kernelspec": {
      "name": "python3",
      "display_name": "Python 3"
    },
    "language_info": {
      "name": "python"
    }
  },
  "cells": [
    {
      "cell_type": "markdown",
      "metadata": {
        "id": "view-in-github",
        "colab_type": "text"
      },
      "source": [
        "<a href=\"https://colab.research.google.com/github/Felipe-a-Fernandes/intro-net-sci/blob/main/intro.ipynb\" target=\"_parent\"><img src=\"https://colab.research.google.com/assets/colab-badge.svg\" alt=\"Open In Colab\"/></a>"
      ]
    },
    {
      "cell_type": "markdown",
      "source": [
        "# Códigos para a introdução"
      ],
      "metadata": {
        "id": "33gSHhmvzE88"
      }
    },
    {
      "cell_type": "markdown",
      "source": [
        "Importando bibliotecas necessárias para as análises."
      ],
      "metadata": {
        "id": "zZb-WmmXy_D-"
      }
    },
    {
      "cell_type": "code",
      "execution_count": null,
      "metadata": {
        "id": "2P2l-WFU0kNp"
      },
      "outputs": [],
      "source": [
        "import networkx as nx\n",
        "import matplotlib.pyplot as plt\n",
        "import numpy as np\n"
      ]
    },
    {
      "cell_type": "markdown",
      "source": [
        "## Redes não direcionadas"
      ],
      "metadata": {
        "id": "eJwCd4JKRlVE"
      }
    },
    {
      "cell_type": "markdown",
      "source": [
        "Instanciando um grafo não direcionado e adicionando nós à rede."
      ],
      "metadata": {
        "id": "oyQTi1eigBhf"
      }
    },
    {
      "cell_type": "code",
      "source": [
        "# Instanciando a classe Graph ('Nossa abstração de um grafo não direcionado').\n",
        "graph = nx.Graph()\n",
        "\n",
        "# Nele podemos adicionar os nós, pelo método add_node().\n",
        "graph.add_node(1)\n",
        "graph.add_node(2)\n",
        "graph.add_node(3)\n",
        "\n",
        "# Com o método a seguir pode-se verificar quantos nós a rede possui.\n",
        "total_nodes = graph.number_of_nodes()\n",
        "print(f'Número de nós: {total_nodes}')\n",
        "\n",
        "# Adicionar nós um a um pode ser trabalhoso e cansativo, uma alternativa é mostrada a seguir.\n",
        "new_nodes = [4, 5, 6]\n",
        "graph.add_nodes_from(new_nodes)\n",
        "\n",
        "# Os nós podem ser adicionados de outro grafo também.\n",
        "another_graph = nx.Graph([('A', 'B'), ('C', 'B')])\n",
        "graph.add_nodes_from(another_graph)\n",
        "\n",
        "total_nodes = graph.number_of_nodes()\n",
        "nodes = graph.nodes\n",
        "print(f'Número de nós: {total_nodes}\\nNós:{nodes}')\n",
        "\n",
        "\n"
      ],
      "metadata": {
        "colab": {
          "base_uri": "https://localhost:8080/"
        },
        "id": "Mud9zAkp0uB_",
        "outputId": "8fb0e521-f403-4cae-9afe-277e9eef51bf"
      },
      "execution_count": null,
      "outputs": [
        {
          "output_type": "stream",
          "name": "stdout",
          "text": [
            "Número de nós: 3\n",
            "Número de nós: 9\n",
            "Nós:[1, 2, 3, 4, 5, 6, 'A', 'B', 'C']\n"
          ]
        }
      ]
    },
    {
      "cell_type": "markdown",
      "source": [
        "Adicionando os links entre os nós."
      ],
      "metadata": {
        "id": "_O3M21TbgKL3"
      }
    },
    {
      "cell_type": "code",
      "source": [
        "# Continuando com a mesma rede, vamos ligar alguns nós\n",
        "graph.add_edge(1, 2)\n",
        "graph.add_edge(1, 5)\n",
        "graph.add_edge(1, 'A')\n",
        "graph.add_edge(4, 5)\n",
        "\n",
        "# Semelhante aos nós, as arestas podem ser adicionadas a partir de uma lista\n",
        "list_of_links = [(3, 4), ('C', 'A'), ('A', 'B'), ('B', 6), ('A', 5)]\n",
        "graph.add_edges_from(list_of_links)\n",
        "\n",
        "total_links = graph.number_of_edges()\n",
        "links = graph.edges\n",
        "print(f'Número de links: {total_links}\\nLinks:{links}')"
      ],
      "metadata": {
        "colab": {
          "base_uri": "https://localhost:8080/"
        },
        "id": "pAXsb-COgQz9",
        "outputId": "1442ed11-22b9-48fd-a7fe-7ae060f80547"
      },
      "execution_count": null,
      "outputs": [
        {
          "output_type": "stream",
          "name": "stdout",
          "text": [
            "Número de links: 9\n",
            "Links:[(1, 2), (1, 5), (1, 'A'), (3, 4), (4, 5), (5, 'A'), (6, 'B'), ('A', 'C'), ('A', 'B')]\n"
          ]
        }
      ]
    },
    {
      "cell_type": "markdown",
      "source": [
        "Obtendo algumas propriedades dos nós e da rede"
      ],
      "metadata": {
        "id": "4XOQpClSjX4y"
      }
    },
    {
      "cell_type": "code",
      "source": [
        "# Vamos obter o grau de cada um dos nós da rede da seguinte forma\n",
        "degree = graph.degree\n",
        "\n",
        "# Uma lista com tuplas é retornada, onde o primeiro valor é o nó e o segundo seu respectivo grau.\n",
        "print(f'Nós e seus graus: {degree}')\n",
        "\n",
        "# Para que seja obtido o grau de um grafo a função average_node_connectivity é usada, passando o grafo como parâmetro\n",
        "#average_deegre = nx.average_neighbor_degree(graph)\n",
        "#print(f'Grau médio: {average_deegre}')"
      ],
      "metadata": {
        "colab": {
          "base_uri": "https://localhost:8080/"
        },
        "id": "kmX3iegcjd8N",
        "outputId": "6d3bef3d-7723-419e-80a5-97fbd199b170"
      },
      "execution_count": null,
      "outputs": [
        {
          "output_type": "stream",
          "name": "stdout",
          "text": [
            "Nós e seus graus: [(1, 3), (2, 1), (3, 1), (4, 2), (5, 3), (6, 1), ('A', 4), ('B', 2), ('C', 1)]\n"
          ]
        }
      ]
    },
    {
      "cell_type": "markdown",
      "source": [
        "Distribuição de grau"
      ],
      "metadata": {
        "id": "06Z0QGLqxD1J"
      }
    },
    {
      "cell_type": "code",
      "source": [
        "# Pegando o grau de todos os nós\n",
        "degrees = [item[1] for item in degree]\n",
        "\n",
        "# Plotando um gráfico de barras, e usando uma função para agrupar a quantidade\n",
        "# nós com mesmo grau\n",
        "plt.bar(*np.unique(degrees, return_counts=True))\n",
        "plt.title('Distribuição de grau')\n",
        "plt.xlabel('Grau')\n",
        "plt.ylabel('Nº de nós')"
      ],
      "metadata": {
        "colab": {
          "base_uri": "https://localhost:8080/",
          "height": 312
        },
        "id": "IUh_9ixBxGIf",
        "outputId": "4eb72a1e-0d74-4d66-be20-009890c09f36"
      },
      "execution_count": null,
      "outputs": [
        {
          "output_type": "execute_result",
          "data": {
            "text/plain": [
              "Text(0, 0.5, 'Nº de nós')"
            ]
          },
          "metadata": {},
          "execution_count": 12
        },
        {
          "output_type": "display_data",
          "data": {
            "image/png": "[encoded data removed]",
            "text/plain": [
              "<Figure size 432x288 with 1 Axes>"
            ]
          },
          "metadata": {
            "needs_background": "light"
          }
        }
      ]
    },
    {
      "cell_type": "markdown",
      "source": [
        "Plotando o gráfico da nossa primeira rede"
      ],
      "metadata": {
        "id": "eQkv8b9XlVhp"
      }
    },
    {
      "cell_type": "code",
      "source": [
        "# A maneira mais simples de fazê-lo é da seguinte maneira.\n",
        "nx.draw(graph, with_labels=True)"
      ],
      "metadata": {
        "colab": {
          "base_uri": "https://localhost:8080/",
          "height": 319
        },
        "id": "u9JLB325lZsd",
        "outputId": "aed38561-fea4-4765-d051-75d006f2898a"
      },
      "execution_count": null,
      "outputs": [
        {
          "output_type": "display_data",
          "data": {
            "image/png": "[encoded data removed]",
            "text/plain": [
              "<Figure size 432x288 with 1 Axes>"
            ]
          },
          "metadata": {}
        }
      ]
    },
    {
      "cell_type": "code",
      "source": [
        "# Mas há maneiras de melhorar e customizar, dependendo da necessidade.\n",
        "# A seguir um dicionário é declarado com chaves (atributos) e valores (como serão).\n",
        "options = {\n",
        "    'node_color': '#cccccc',\n",
        "    'node_size': 120,\n",
        "    'edge_color': 'red',\n",
        "    'with_labels': True\n",
        "}\n",
        "\n",
        "# Essa função desenha a rede de forma aleatória\n",
        "sub_plot1 = plt.subplot(121)\n",
        "nx.draw_random(graph, **options)\n",
        "\n",
        "# Mas ela pode ser desenhada de forma circular\n",
        "sub_plot2 = plt.subplot(122)\n",
        "nx.draw_circular(graph, **options)\n",
        "\n"
      ],
      "metadata": {
        "colab": {
          "base_uri": "https://localhost:8080/",
          "height": 248
        },
        "id": "MuGEPVROnXNn",
        "outputId": "35266a30-b0c3-4acc-b66b-a9e2ed123ff7"
      },
      "execution_count": null,
      "outputs": [
        {
          "output_type": "display_data",
          "data": {
            "image/png": "[encoded data removed]",
            "text/plain": [
              "<Figure size 432x288 with 2 Axes>"
            ]
          },
          "metadata": {}
        }
      ]
    },
    {
      "cell_type": "markdown",
      "source": [
        "Matriz de adjacência"
      ],
      "metadata": {
        "id": "fcABFj77sqCm"
      }
    },
    {
      "cell_type": "code",
      "source": [
        "# No caso computacional, é usada uma lista, ou estrutura do tipo, com um nó e quais ele se conecta.\n",
        "# Se fosse usada uma matriz de adjacência, haveriam muitos zeros armazenados em memória.\n",
        "# É obtido um dict com chave sendo os nós, e os valores um dicionário com os nós que esse se liga.\n",
        "adj = graph.adj\n",
        "print(adj)\n",
        "\n",
        "# Retorna um objeto\n",
        "adjacency = graph.adjacency()\n",
        "for node in adjacency:\n",
        "  print(node)"
      ],
      "metadata": {
        "colab": {
          "base_uri": "https://localhost:8080/"
        },
        "id": "hFs2C9FUssyr",
        "outputId": "bc1ed7f5-2550-4bad-9992-37e2258cae8c"
      },
      "execution_count": null,
      "outputs": [
        {
          "output_type": "stream",
          "name": "stdout",
          "text": [
            "{1: {2: {}, 5: {}, 'A': {}}, 2: {1: {}}, 3: {4: {}}, 4: {5: {}, 3: {}}, 5: {1: {}, 4: {}, 'A': {}}, 6: {'B': {}}, 'A': {1: {}, 'C': {}, 'B': {}, 5: {}}, 'B': {'A': {}, 6: {}}, 'C': {'A': {}}}\n",
            "(1, {2: {}, 5: {}, 'A': {}})\n",
            "(2, {1: {}})\n",
            "(3, {4: {}})\n",
            "(4, {5: {}, 3: {}})\n",
            "(5, {1: {}, 4: {}, 'A': {}})\n",
            "(6, {'B': {}})\n",
            "('A', {1: {}, 'C': {}, 'B': {}, 5: {}})\n",
            "('B', {'A': {}, 6: {}})\n",
            "('C', {'A': {}})\n"
          ]
        }
      ]
    },
    {
      "cell_type": "markdown",
      "source": [
        "## Redes direcionadas"
      ],
      "metadata": {
        "id": "sOfxVP6ER9Bv"
      }
    },
    {
      "cell_type": "markdown",
      "source": [
        "Criando nosso dígrafo, e plotando-o"
      ],
      "metadata": {
        "id": "yRIpTamunEwd"
      }
    },
    {
      "cell_type": "code",
      "source": [
        "# Instanciando nosso grafo direcionado ou digrafo\n",
        "digraph = nx.DiGraph()\n",
        "\n",
        "# O processo de adicionar nós e arestas ao digrafo é semelhante ao grafo\n",
        "digraph.add_node('João')\n",
        "digraph.add_node('Maria')\n",
        "\n",
        "# Adicionando a partir de uma lista\n",
        "name_list = ['José', 'Ana', 'Aurélio']\n",
        "digraph.add_nodes_from(name_list)\n",
        "\n",
        "# Pode-se aproveitar o momento e adicionar um peso aos links, eles não representam apenas a interação, mas alguma grandeza\n",
        "digraph.add_edge('João', 'Maria', weight=2)\n",
        "digraph.add_edge('Aurélio', 'Maria', weight=5)\n",
        "\n",
        "# Para adicionar várias arestas com pesos, o método usado é outro\n",
        "call_list = [('João', 'Aurélio', 6), ('Ana', 'João', 1), ('José', 'Ana', 12)]\n",
        "digraph.add_weighted_edges_from(call_list)\n",
        "\n",
        "# Plotando essa rede\n",
        "nx.draw(digraph, with_labels=True)\n",
        "plt.title('Rede representando ligações entre pessoas')"
      ],
      "metadata": {
        "colab": {
          "base_uri": "https://localhost:8080/",
          "height": 352
        },
        "id": "a4lv3cgtSOgH",
        "outputId": "f69c464e-ee9d-4cb0-9406-727d52af6293"
      },
      "execution_count": null,
      "outputs": [
        {
          "output_type": "execute_result",
          "data": {
            "text/plain": [
              "Text(0.5, 1.0, 'Rede representando ligações entre pessoas')"
            ]
          },
          "metadata": {},
          "execution_count": 16
        },
        {
          "output_type": "display_data",
          "data": {
            "image/png": "[encoded data removed]",
            "text/plain": [
              "<Figure size 432x288 with 1 Axes>"
            ]
          },
          "metadata": {}
        }
      ]
    },
    {
      "cell_type": "markdown",
      "source": [
        "Algumas propriedades"
      ],
      "metadata": {
        "id": "kasp67OrnKL4"
      }
    },
    {
      "cell_type": "code",
      "source": [
        "# Links entrando e saindo em cada nó da rede\n",
        "in_degree = digraph.in_degree\n",
        "out_degree = digraph.out_degree\n",
        "print(f'Grau de entrada: {in_degree}\\nGrau de saida: {out_degree}')\n",
        "\n",
        "# Grau médio\n",
        "#d_average_degree = nx.average_node_connectivity(digraph)\n",
        "#print(f'Grau médio: {d_average_degree}')"
      ],
      "metadata": {
        "colab": {
          "base_uri": "https://localhost:8080/"
        },
        "id": "9PSyQFJbjrT3",
        "outputId": "da7dd488-a32b-4a02-e3b4-a7e88f4235f2"
      },
      "execution_count": null,
      "outputs": [
        {
          "output_type": "stream",
          "name": "stdout",
          "text": [
            "Grau de entrada: [('João', 1), ('Maria', 2), ('José', 0), ('Ana', 1), ('Aurélio', 1)]\n",
            "Grau de saida: [('João', 2), ('Maria', 0), ('José', 1), ('Ana', 1), ('Aurélio', 1)]\n"
          ]
        }
      ]
    },
    {
      "cell_type": "markdown",
      "source": [
        "Histograma"
      ],
      "metadata": {
        "id": "6EaTv425ryyC"
      }
    },
    {
      "cell_type": "code",
      "source": [
        "frequency_of_degree = nx.degree_histogram(digraph)\n",
        "prob_deg = list(map(lambda x: x/digraph.number_of_nodes(), frequency_of_degree))\n",
        "n_links = [n for n in range(4)]\n",
        "\n",
        "plt.bar(n_links, prob_deg)\n",
        "plt.xlim(0, len(n_links))\n",
        "plt.title('Distribuição de grau')\n",
        "plt.xlabel('Nº de links')\n",
        "plt.ylabel('% de ter um grau k_{i}')"
      ],
      "metadata": {
        "colab": {
          "base_uri": "https://localhost:8080/",
          "height": 312
        },
        "id": "WSpHs4SKr3A9",
        "outputId": "80dae176-af4e-4fbe-9e35-fcefb7de1cfd"
      },
      "execution_count": null,
      "outputs": [
        {
          "output_type": "execute_result",
          "data": {
            "text/plain": [
              "Text(0, 0.5, '% de ter um grau k_{i}')"
            ]
          },
          "metadata": {},
          "execution_count": 18
        },
        {
          "output_type": "display_data",
          "data": {
            "image/png": "[encoded data removed]",
            "text/plain": [
              "<Figure size 432x288 with 1 Axes>"
            ]
          },
          "metadata": {
            "needs_background": "light"
          }
        }
      ]
    },
    {
      "cell_type": "markdown",
      "source": [
        "## Caminhos, distâncias e coeficiente de clustering"
      ],
      "metadata": {
        "id": "Hzvpz79sx_4S"
      }
    },
    {
      "cell_type": "markdown",
      "source": [
        "Shortest path ou menor caminho"
      ],
      "metadata": {
        "id": "nsKGYAD0pzQB"
      }
    },
    {
      "cell_type": "code",
      "source": [
        "# Calcula todos os menores caminhos, se nada for atribuido ao source e target\n",
        "shortest_paths = nx.shortest_path(graph)\n",
        "\n",
        "# O seis indica que o source é 6 e o target é o 5,\n",
        "# o retorno é uma lista com os nós que serão passados de um ponto ao outro.\n",
        "shortest_6_to_5 = shortest_paths[6][5]\n",
        "\n",
        "print(shortest_6_to_5)\n"
      ],
      "metadata": {
        "colab": {
          "base_uri": "https://localhost:8080/"
        },
        "id": "oFMBNvonlrfM",
        "outputId": "bca79f07-6613-4213-bd76-16a4b555117d"
      },
      "execution_count": null,
      "outputs": [
        {
          "output_type": "stream",
          "name": "stdout",
          "text": [
            "[6, 'B', 'A', 5]\n"
          ]
        }
      ]
    },
    {
      "cell_type": "markdown",
      "source": [
        "Diâmetro da rede"
      ],
      "metadata": {
        "id": "MNdRj9FXukrM"
      }
    },
    {
      "cell_type": "code",
      "source": [
        "# Passa um grafo como parâmetro e o retorno é o diâmetro\n",
        "# o diâmetro é o maior menor caminho\n",
        "graph_diameter = nx.diameter(graph)\n",
        "\n",
        "print(f'O diâmetro da rede é: {graph_diameter}')\n"
      ],
      "metadata": {
        "colab": {
          "base_uri": "https://localhost:8080/"
        },
        "id": "kItClbLj0C-O",
        "outputId": "7260154e-9eff-4ac1-e0ee-5802b0488af6"
      },
      "execution_count": null,
      "outputs": [
        {
          "output_type": "stream",
          "name": "stdout",
          "text": [
            "O diâmetro da rede é: 5\n"
          ]
        }
      ]
    },
    {
      "cell_type": "markdown",
      "source": [
        "O menor caminho médio"
      ],
      "metadata": {
        "id": "9ZHNynj_upVq"
      }
    },
    {
      "cell_type": "code",
      "source": [
        "av_shortest_path = nx.average_shortest_path_length(graph)\n",
        "print(f'O menor caminho médio vale: {av_shortest_path:.2f}')"
      ],
      "metadata": {
        "colab": {
          "base_uri": "https://localhost:8080/"
        },
        "id": "qrOaxyX-084z",
        "outputId": "6e2b5b39-5c2d-4ce2-bec9-f3b567739965"
      },
      "execution_count": null,
      "outputs": [
        {
          "output_type": "stream",
          "name": "stdout",
          "text": [
            "O menor caminho médio vale: 2.39\n"
          ]
        }
      ]
    },
    {
      "cell_type": "markdown",
      "source": [
        "Clustering"
      ],
      "metadata": {
        "id": "hT6-gz_Out1L"
      }
    },
    {
      "cell_type": "code",
      "source": [
        "from networkx.algorithms.cluster import clustering, average_clustering\n",
        "\n",
        "# Identifica o coeficiente de clusterização de todos os nós\n",
        "clustering_coef = nx.clustering(graph)\n",
        "clustering_of_A = clustering_coef[1]\n",
        "\n",
        "print(f'Coeficiente de clusterização: {clustering_of_A:.2f}')\n",
        "\n",
        "# Média do coeficiente de clusterização\n",
        "average_clustering_coef = average_clustering(graph)\n",
        "\n",
        "print(f'Média do coef. de clusterização: {average_clustering_coef:.2f}')"
      ],
      "metadata": {
        "colab": {
          "base_uri": "https://localhost:8080/"
        },
        "id": "90ZgTKom1nlc",
        "outputId": "ad910b11-012d-469e-a37b-cb77a9c6b82f"
      },
      "execution_count": null,
      "outputs": [
        {
          "output_type": "stream",
          "name": "stdout",
          "text": [
            "Coeficiente de clusterização: 0.33\n",
            "Média do coef. de clusterização: 0.09\n"
          ]
        }
      ]
    }
  ]
}